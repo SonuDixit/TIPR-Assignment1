{
 "cells": [
  {
   "cell_type": "code",
   "execution_count": 17,
   "metadata": {},
   "outputs": [],
   "source": [
    "import pandas as pd"
   ]
  },
  {
   "cell_type": "code",
   "execution_count": 18,
   "metadata": {},
   "outputs": [],
   "source": [
    "d = pd.read_csv(\"dolphins.csv\",sep=\" \",header = None)"
   ]
  },
  {
   "cell_type": "code",
   "execution_count": 19,
   "metadata": {},
   "outputs": [
    {
     "data": {
      "text/html": [
       "<div>\n",
       "<style scoped>\n",
       "    .dataframe tbody tr th:only-of-type {\n",
       "        vertical-align: middle;\n",
       "    }\n",
       "\n",
       "    .dataframe tbody tr th {\n",
       "        vertical-align: top;\n",
       "    }\n",
       "\n",
       "    .dataframe thead th {\n",
       "        text-align: right;\n",
       "    }\n",
       "</style>\n",
       "<table border=\"1\" class=\"dataframe\">\n",
       "  <thead>\n",
       "    <tr style=\"text-align: right;\">\n",
       "      <th></th>\n",
       "      <th>0</th>\n",
       "      <th>1</th>\n",
       "      <th>2</th>\n",
       "      <th>3</th>\n",
       "      <th>4</th>\n",
       "      <th>5</th>\n",
       "      <th>6</th>\n",
       "      <th>7</th>\n",
       "      <th>8</th>\n",
       "      <th>9</th>\n",
       "      <th>...</th>\n",
       "      <th>22</th>\n",
       "      <th>23</th>\n",
       "      <th>24</th>\n",
       "      <th>25</th>\n",
       "      <th>26</th>\n",
       "      <th>27</th>\n",
       "      <th>28</th>\n",
       "      <th>29</th>\n",
       "      <th>30</th>\n",
       "      <th>31</th>\n",
       "    </tr>\n",
       "  </thead>\n",
       "  <tbody>\n",
       "    <tr>\n",
       "      <th>count</th>\n",
       "      <td>62.000000</td>\n",
       "      <td>62.000000</td>\n",
       "      <td>62.000000</td>\n",
       "      <td>62.000000</td>\n",
       "      <td>62.000000</td>\n",
       "      <td>62.000000</td>\n",
       "      <td>62.000000</td>\n",
       "      <td>62.000000</td>\n",
       "      <td>62.000000</td>\n",
       "      <td>62.000000</td>\n",
       "      <td>...</td>\n",
       "      <td>62.000000</td>\n",
       "      <td>62.000000</td>\n",
       "      <td>62.000000</td>\n",
       "      <td>62.000000</td>\n",
       "      <td>62.000000</td>\n",
       "      <td>62.000000</td>\n",
       "      <td>62.000000</td>\n",
       "      <td>62.000000</td>\n",
       "      <td>62.000000</td>\n",
       "      <td>62.000000</td>\n",
       "    </tr>\n",
       "    <tr>\n",
       "      <th>mean</th>\n",
       "      <td>-0.337190</td>\n",
       "      <td>-0.495415</td>\n",
       "      <td>-0.282875</td>\n",
       "      <td>-0.160599</td>\n",
       "      <td>-0.254283</td>\n",
       "      <td>-0.191377</td>\n",
       "      <td>0.359207</td>\n",
       "      <td>-0.095381</td>\n",
       "      <td>0.267358</td>\n",
       "      <td>0.085233</td>\n",
       "      <td>...</td>\n",
       "      <td>0.426530</td>\n",
       "      <td>0.188693</td>\n",
       "      <td>0.170856</td>\n",
       "      <td>-0.129527</td>\n",
       "      <td>-0.069139</td>\n",
       "      <td>0.038162</td>\n",
       "      <td>-0.224390</td>\n",
       "      <td>0.107948</td>\n",
       "      <td>0.063874</td>\n",
       "      <td>0.190855</td>\n",
       "    </tr>\n",
       "    <tr>\n",
       "      <th>std</th>\n",
       "      <td>0.240902</td>\n",
       "      <td>0.146956</td>\n",
       "      <td>0.261998</td>\n",
       "      <td>0.065305</td>\n",
       "      <td>0.076051</td>\n",
       "      <td>0.092266</td>\n",
       "      <td>0.164540</td>\n",
       "      <td>0.154570</td>\n",
       "      <td>0.104643</td>\n",
       "      <td>0.209078</td>\n",
       "      <td>...</td>\n",
       "      <td>0.185643</td>\n",
       "      <td>0.102704</td>\n",
       "      <td>0.042646</td>\n",
       "      <td>0.247821</td>\n",
       "      <td>0.173880</td>\n",
       "      <td>0.038798</td>\n",
       "      <td>0.136122</td>\n",
       "      <td>0.127842</td>\n",
       "      <td>0.094441</td>\n",
       "      <td>0.138478</td>\n",
       "    </tr>\n",
       "    <tr>\n",
       "      <th>min</th>\n",
       "      <td>-0.682118</td>\n",
       "      <td>-0.792018</td>\n",
       "      <td>-0.876355</td>\n",
       "      <td>-0.292409</td>\n",
       "      <td>-0.408225</td>\n",
       "      <td>-0.376765</td>\n",
       "      <td>0.181058</td>\n",
       "      <td>-0.410646</td>\n",
       "      <td>0.049660</td>\n",
       "      <td>-0.283910</td>\n",
       "      <td>...</td>\n",
       "      <td>0.091330</td>\n",
       "      <td>-0.056437</td>\n",
       "      <td>0.090186</td>\n",
       "      <td>-0.562175</td>\n",
       "      <td>-0.382560</td>\n",
       "      <td>-0.031417</td>\n",
       "      <td>-0.482978</td>\n",
       "      <td>-0.120075</td>\n",
       "      <td>-0.097871</td>\n",
       "      <td>-0.028570</td>\n",
       "    </tr>\n",
       "    <tr>\n",
       "      <th>25%</th>\n",
       "      <td>-0.552933</td>\n",
       "      <td>-0.622807</td>\n",
       "      <td>-0.415990</td>\n",
       "      <td>-0.211240</td>\n",
       "      <td>-0.318712</td>\n",
       "      <td>-0.269124</td>\n",
       "      <td>0.230481</td>\n",
       "      <td>-0.218109</td>\n",
       "      <td>0.191106</td>\n",
       "      <td>-0.137674</td>\n",
       "      <td>...</td>\n",
       "      <td>0.275433</td>\n",
       "      <td>0.125948</td>\n",
       "      <td>0.140674</td>\n",
       "      <td>-0.395492</td>\n",
       "      <td>-0.200732</td>\n",
       "      <td>0.006289</td>\n",
       "      <td>-0.358550</td>\n",
       "      <td>0.007583</td>\n",
       "      <td>-0.010899</td>\n",
       "      <td>0.099417</td>\n",
       "    </tr>\n",
       "    <tr>\n",
       "      <th>50%</th>\n",
       "      <td>-0.423565</td>\n",
       "      <td>-0.457859</td>\n",
       "      <td>-0.156606</td>\n",
       "      <td>-0.145244</td>\n",
       "      <td>-0.230870</td>\n",
       "      <td>-0.198838</td>\n",
       "      <td>0.304542</td>\n",
       "      <td>-0.023912</td>\n",
       "      <td>0.249983</td>\n",
       "      <td>0.185696</td>\n",
       "      <td>...</td>\n",
       "      <td>0.466839</td>\n",
       "      <td>0.190184</td>\n",
       "      <td>0.169340</td>\n",
       "      <td>-0.075542</td>\n",
       "      <td>-0.066682</td>\n",
       "      <td>0.037827</td>\n",
       "      <td>-0.157289</td>\n",
       "      <td>0.128422</td>\n",
       "      <td>0.077270</td>\n",
       "      <td>0.169943</td>\n",
       "    </tr>\n",
       "    <tr>\n",
       "      <th>75%</th>\n",
       "      <td>-0.062880</td>\n",
       "      <td>-0.400873</td>\n",
       "      <td>-0.099700</td>\n",
       "      <td>-0.110009</td>\n",
       "      <td>-0.195408</td>\n",
       "      <td>-0.100790</td>\n",
       "      <td>0.453047</td>\n",
       "      <td>0.018651</td>\n",
       "      <td>0.364989</td>\n",
       "      <td>0.261407</td>\n",
       "      <td>...</td>\n",
       "      <td>0.540065</td>\n",
       "      <td>0.251867</td>\n",
       "      <td>0.195986</td>\n",
       "      <td>0.051454</td>\n",
       "      <td>0.069557</td>\n",
       "      <td>0.070309</td>\n",
       "      <td>-0.119790</td>\n",
       "      <td>0.201675</td>\n",
       "      <td>0.143307</td>\n",
       "      <td>0.246575</td>\n",
       "    </tr>\n",
       "    <tr>\n",
       "      <th>max</th>\n",
       "      <td>0.072103</td>\n",
       "      <td>-0.277391</td>\n",
       "      <td>0.054091</td>\n",
       "      <td>-0.036806</td>\n",
       "      <td>-0.120638</td>\n",
       "      <td>0.015654</td>\n",
       "      <td>0.744799</td>\n",
       "      <td>0.110538</td>\n",
       "      <td>0.487415</td>\n",
       "      <td>0.335561</td>\n",
       "      <td>...</td>\n",
       "      <td>0.850462</td>\n",
       "      <td>0.386881</td>\n",
       "      <td>0.268246</td>\n",
       "      <td>0.257044</td>\n",
       "      <td>0.226318</td>\n",
       "      <td>0.134592</td>\n",
       "      <td>-0.029807</td>\n",
       "      <td>0.310712</td>\n",
       "      <td>0.202467</td>\n",
       "      <td>0.481561</td>\n",
       "    </tr>\n",
       "  </tbody>\n",
       "</table>\n",
       "<p>8 rows × 32 columns</p>\n",
       "</div>"
      ],
      "text/plain": [
       "              0          1          2          3          4          5   \\\n",
       "count  62.000000  62.000000  62.000000  62.000000  62.000000  62.000000   \n",
       "mean   -0.337190  -0.495415  -0.282875  -0.160599  -0.254283  -0.191377   \n",
       "std     0.240902   0.146956   0.261998   0.065305   0.076051   0.092266   \n",
       "min    -0.682118  -0.792018  -0.876355  -0.292409  -0.408225  -0.376765   \n",
       "25%    -0.552933  -0.622807  -0.415990  -0.211240  -0.318712  -0.269124   \n",
       "50%    -0.423565  -0.457859  -0.156606  -0.145244  -0.230870  -0.198838   \n",
       "75%    -0.062880  -0.400873  -0.099700  -0.110009  -0.195408  -0.100790   \n",
       "max     0.072103  -0.277391   0.054091  -0.036806  -0.120638   0.015654   \n",
       "\n",
       "              6          7          8          9     ...             22  \\\n",
       "count  62.000000  62.000000  62.000000  62.000000    ...      62.000000   \n",
       "mean    0.359207  -0.095381   0.267358   0.085233    ...       0.426530   \n",
       "std     0.164540   0.154570   0.104643   0.209078    ...       0.185643   \n",
       "min     0.181058  -0.410646   0.049660  -0.283910    ...       0.091330   \n",
       "25%     0.230481  -0.218109   0.191106  -0.137674    ...       0.275433   \n",
       "50%     0.304542  -0.023912   0.249983   0.185696    ...       0.466839   \n",
       "75%     0.453047   0.018651   0.364989   0.261407    ...       0.540065   \n",
       "max     0.744799   0.110538   0.487415   0.335561    ...       0.850462   \n",
       "\n",
       "              23         24         25         26         27         28  \\\n",
       "count  62.000000  62.000000  62.000000  62.000000  62.000000  62.000000   \n",
       "mean    0.188693   0.170856  -0.129527  -0.069139   0.038162  -0.224390   \n",
       "std     0.102704   0.042646   0.247821   0.173880   0.038798   0.136122   \n",
       "min    -0.056437   0.090186  -0.562175  -0.382560  -0.031417  -0.482978   \n",
       "25%     0.125948   0.140674  -0.395492  -0.200732   0.006289  -0.358550   \n",
       "50%     0.190184   0.169340  -0.075542  -0.066682   0.037827  -0.157289   \n",
       "75%     0.251867   0.195986   0.051454   0.069557   0.070309  -0.119790   \n",
       "max     0.386881   0.268246   0.257044   0.226318   0.134592  -0.029807   \n",
       "\n",
       "              29         30         31  \n",
       "count  62.000000  62.000000  62.000000  \n",
       "mean    0.107948   0.063874   0.190855  \n",
       "std     0.127842   0.094441   0.138478  \n",
       "min    -0.120075  -0.097871  -0.028570  \n",
       "25%     0.007583  -0.010899   0.099417  \n",
       "50%     0.128422   0.077270   0.169943  \n",
       "75%     0.201675   0.143307   0.246575  \n",
       "max     0.310712   0.202467   0.481561  \n",
       "\n",
       "[8 rows x 32 columns]"
      ]
     },
     "execution_count": 19,
     "metadata": {},
     "output_type": "execute_result"
    }
   ],
   "source": [
    "d.describe()"
   ]
  },
  {
   "cell_type": "code",
   "execution_count": 20,
   "metadata": {},
   "outputs": [
    {
     "data": {
      "text/plain": [
       "(62, 32)"
      ]
     },
     "execution_count": 20,
     "metadata": {},
     "output_type": "execute_result"
    }
   ],
   "source": [
    "d.shape"
   ]
  },
  {
   "cell_type": "code",
   "execution_count": 21,
   "metadata": {},
   "outputs": [
    {
     "data": {
      "text/plain": [
       "Int64Index([], dtype='int64')"
      ]
     },
     "execution_count": 21,
     "metadata": {},
     "output_type": "execute_result"
    }
   ],
   "source": [
    "d.select_dtypes(include=['category', object]).columns"
   ]
  },
  {
   "cell_type": "code",
   "execution_count": 22,
   "metadata": {},
   "outputs": [],
   "source": [
    "import numpy as np\n",
    "d_as_np_arr = d.values"
   ]
  },
  {
   "cell_type": "code",
   "execution_count": 23,
   "metadata": {},
   "outputs": [
    {
     "data": {
      "text/plain": [
       "(62, 32)"
      ]
     },
     "execution_count": 23,
     "metadata": {},
     "output_type": "execute_result"
    }
   ],
   "source": [
    "d_as_np_arr.shape"
   ]
  },
  {
   "cell_type": "code",
   "execution_count": 24,
   "metadata": {},
   "outputs": [
    {
     "data": {
      "text/plain": [
       "numpy.ndarray"
      ]
     },
     "execution_count": 24,
     "metadata": {},
     "output_type": "execute_result"
    }
   ],
   "source": [
    "type(d_as_np_arr)"
   ]
  },
  {
   "cell_type": "code",
   "execution_count": 25,
   "metadata": {},
   "outputs": [
    {
     "data": {
      "text/plain": [
       "array([-0.066194, -0.679474, -0.693006, -0.088905, -0.325945, -0.272775,\n",
       "        0.621293, -0.351791,  0.349638, -0.2428  , -0.51751 , -0.233438,\n",
       "        0.154299, -0.035368,  0.032191,  0.122067, -0.216306, -0.709893,\n",
       "       -0.049459,  0.016879,  0.090434, -0.084285,  0.125729,  0.260374,\n",
       "        0.204229, -0.459546, -0.316826,  0.038907, -0.395783,  0.223385,\n",
       "       -0.069794,  0.388201])"
      ]
     },
     "execution_count": 25,
     "metadata": {},
     "output_type": "execute_result"
    }
   ],
   "source": [
    "d_as_np_arr[61]"
   ]
  },
  {
   "cell_type": "code",
   "execution_count": 26,
   "metadata": {},
   "outputs": [],
   "source": [
    "import pickle"
   ]
  },
  {
   "cell_type": "code",
   "execution_count": 27,
   "metadata": {},
   "outputs": [],
   "source": [
    "with open(\"dolphin_full.pickle\",\"wb\") as f:\n",
    "    pickle.dump(d_as_np_arr,f,pickle.HIGHEST_PROTOCOL)"
   ]
  },
  {
   "cell_type": "code",
   "execution_count": 28,
   "metadata": {},
   "outputs": [],
   "source": [
    "label = pd.read_csv(\"dolphins_label.csv\",sep=\" \",header = None)"
   ]
  },
  {
   "cell_type": "code",
   "execution_count": 29,
   "metadata": {},
   "outputs": [
    {
     "data": {
      "text/plain": [
       "(62, 1)"
      ]
     },
     "execution_count": 29,
     "metadata": {},
     "output_type": "execute_result"
    }
   ],
   "source": [
    "label.shape"
   ]
  },
  {
   "cell_type": "code",
   "execution_count": 30,
   "metadata": {},
   "outputs": [],
   "source": [
    "label = label.values"
   ]
  },
  {
   "cell_type": "code",
   "execution_count": 31,
   "metadata": {},
   "outputs": [
    {
     "data": {
      "text/plain": [
       "(62, 1)"
      ]
     },
     "execution_count": 31,
     "metadata": {},
     "output_type": "execute_result"
    }
   ],
   "source": [
    "label.shape"
   ]
  },
  {
   "cell_type": "code",
   "execution_count": 32,
   "metadata": {},
   "outputs": [],
   "source": [
    "label = label.reshape((62,))"
   ]
  },
  {
   "cell_type": "code",
   "execution_count": 33,
   "metadata": {},
   "outputs": [
    {
     "data": {
      "text/plain": [
       "(62,)"
      ]
     },
     "execution_count": 33,
     "metadata": {},
     "output_type": "execute_result"
    }
   ],
   "source": [
    "label.shape"
   ]
  },
  {
   "cell_type": "code",
   "execution_count": 34,
   "metadata": {},
   "outputs": [],
   "source": [
    "with open(\"dolphin_full_label.pickle\",\"wb\") as f:\n",
    "    pickle.dump(label,f,pickle.HIGHEST_PROTOCOL)"
   ]
  },
  {
   "cell_type": "code",
   "execution_count": null,
   "metadata": {},
   "outputs": [],
   "source": []
  }
 ],
 "metadata": {
  "kernelspec": {
   "display_name": "Python 3",
   "language": "python",
   "name": "python3"
  },
  "language_info": {
   "codemirror_mode": {
    "name": "ipython",
    "version": 3
   },
   "file_extension": ".py",
   "mimetype": "text/x-python",
   "name": "python",
   "nbconvert_exporter": "python",
   "pygments_lexer": "ipython3",
   "version": "3.6.5"
  }
 },
 "nbformat": 4,
 "nbformat_minor": 2
}
