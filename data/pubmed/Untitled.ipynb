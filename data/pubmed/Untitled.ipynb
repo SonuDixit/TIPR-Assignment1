{
 "cells": [
  {
   "cell_type": "code",
   "execution_count": 1,
   "metadata": {},
   "outputs": [],
   "source": [
    "import pandas as pd\n",
    "import numpy as np\n",
    "import pickle"
   ]
  },
  {
   "cell_type": "code",
   "execution_count": 2,
   "metadata": {},
   "outputs": [],
   "source": [
    "df = pd.read_csv(\"pubmed.csv\", sep =\" \", header=None)"
   ]
  },
  {
   "cell_type": "code",
   "execution_count": 3,
   "metadata": {},
   "outputs": [
    {
     "data": {
      "text/plain": [
       "(20701, 128)"
      ]
     },
     "execution_count": 3,
     "metadata": {},
     "output_type": "execute_result"
    }
   ],
   "source": [
    "df.shape"
   ]
  },
  {
   "cell_type": "code",
   "execution_count": 5,
   "metadata": {},
   "outputs": [
    {
     "data": {
      "text/html": [
       "<div>\n",
       "<style scoped>\n",
       "    .dataframe tbody tr th:only-of-type {\n",
       "        vertical-align: middle;\n",
       "    }\n",
       "\n",
       "    .dataframe tbody tr th {\n",
       "        vertical-align: top;\n",
       "    }\n",
       "\n",
       "    .dataframe thead th {\n",
       "        text-align: right;\n",
       "    }\n",
       "</style>\n",
       "<table border=\"1\" class=\"dataframe\">\n",
       "  <thead>\n",
       "    <tr style=\"text-align: right;\">\n",
       "      <th></th>\n",
       "      <th>0</th>\n",
       "      <th>1</th>\n",
       "      <th>2</th>\n",
       "      <th>3</th>\n",
       "      <th>4</th>\n",
       "      <th>5</th>\n",
       "      <th>6</th>\n",
       "      <th>7</th>\n",
       "      <th>8</th>\n",
       "      <th>9</th>\n",
       "      <th>...</th>\n",
       "      <th>118</th>\n",
       "      <th>119</th>\n",
       "      <th>120</th>\n",
       "      <th>121</th>\n",
       "      <th>122</th>\n",
       "      <th>123</th>\n",
       "      <th>124</th>\n",
       "      <th>125</th>\n",
       "      <th>126</th>\n",
       "      <th>127</th>\n",
       "    </tr>\n",
       "  </thead>\n",
       "  <tbody>\n",
       "    <tr>\n",
       "      <th>count</th>\n",
       "      <td>20701.000000</td>\n",
       "      <td>20701.000000</td>\n",
       "      <td>20701.000000</td>\n",
       "      <td>20701.000000</td>\n",
       "      <td>20701.000000</td>\n",
       "      <td>20701.000000</td>\n",
       "      <td>20701.000000</td>\n",
       "      <td>20701.000000</td>\n",
       "      <td>20701.000000</td>\n",
       "      <td>20701.000000</td>\n",
       "      <td>...</td>\n",
       "      <td>20701.000000</td>\n",
       "      <td>20701.000000</td>\n",
       "      <td>20701.000000</td>\n",
       "      <td>20701.000000</td>\n",
       "      <td>20701.000000</td>\n",
       "      <td>20701.000000</td>\n",
       "      <td>20701.000000</td>\n",
       "      <td>20701.000000</td>\n",
       "      <td>20701.000000</td>\n",
       "      <td>20701.000000</td>\n",
       "    </tr>\n",
       "    <tr>\n",
       "      <th>mean</th>\n",
       "      <td>0.101796</td>\n",
       "      <td>0.054271</td>\n",
       "      <td>-0.053068</td>\n",
       "      <td>0.138621</td>\n",
       "      <td>-0.101186</td>\n",
       "      <td>-0.019350</td>\n",
       "      <td>-0.008168</td>\n",
       "      <td>-0.034094</td>\n",
       "      <td>0.087339</td>\n",
       "      <td>0.377645</td>\n",
       "      <td>...</td>\n",
       "      <td>-0.163936</td>\n",
       "      <td>-0.113719</td>\n",
       "      <td>-0.002394</td>\n",
       "      <td>-0.009099</td>\n",
       "      <td>-0.547900</td>\n",
       "      <td>-0.069505</td>\n",
       "      <td>-0.234863</td>\n",
       "      <td>0.430402</td>\n",
       "      <td>0.052861</td>\n",
       "      <td>-0.170808</td>\n",
       "    </tr>\n",
       "    <tr>\n",
       "      <th>std</th>\n",
       "      <td>0.297767</td>\n",
       "      <td>0.302969</td>\n",
       "      <td>0.304978</td>\n",
       "      <td>0.293488</td>\n",
       "      <td>0.290411</td>\n",
       "      <td>0.301152</td>\n",
       "      <td>0.307910</td>\n",
       "      <td>0.273126</td>\n",
       "      <td>0.302194</td>\n",
       "      <td>0.302911</td>\n",
       "      <td>...</td>\n",
       "      <td>0.297193</td>\n",
       "      <td>0.307215</td>\n",
       "      <td>0.330141</td>\n",
       "      <td>0.313027</td>\n",
       "      <td>0.288970</td>\n",
       "      <td>0.306663</td>\n",
       "      <td>0.327617</td>\n",
       "      <td>0.326694</td>\n",
       "      <td>0.313234</td>\n",
       "      <td>0.308749</td>\n",
       "    </tr>\n",
       "    <tr>\n",
       "      <th>min</th>\n",
       "      <td>-1.185942</td>\n",
       "      <td>-1.174527</td>\n",
       "      <td>-1.545076</td>\n",
       "      <td>-1.186105</td>\n",
       "      <td>-1.492544</td>\n",
       "      <td>-1.349734</td>\n",
       "      <td>-1.278848</td>\n",
       "      <td>-1.148145</td>\n",
       "      <td>-1.409779</td>\n",
       "      <td>-0.726128</td>\n",
       "      <td>...</td>\n",
       "      <td>-1.284607</td>\n",
       "      <td>-1.301607</td>\n",
       "      <td>-1.452483</td>\n",
       "      <td>-1.132849</td>\n",
       "      <td>-1.952865</td>\n",
       "      <td>-1.370527</td>\n",
       "      <td>-1.470508</td>\n",
       "      <td>-0.902805</td>\n",
       "      <td>-1.145220</td>\n",
       "      <td>-1.288999</td>\n",
       "    </tr>\n",
       "    <tr>\n",
       "      <th>25%</th>\n",
       "      <td>-0.095416</td>\n",
       "      <td>-0.140536</td>\n",
       "      <td>-0.261342</td>\n",
       "      <td>-0.057162</td>\n",
       "      <td>-0.289715</td>\n",
       "      <td>-0.221183</td>\n",
       "      <td>-0.214615</td>\n",
       "      <td>-0.216668</td>\n",
       "      <td>-0.116821</td>\n",
       "      <td>0.167464</td>\n",
       "      <td>...</td>\n",
       "      <td>-0.365777</td>\n",
       "      <td>-0.317797</td>\n",
       "      <td>-0.219234</td>\n",
       "      <td>-0.225516</td>\n",
       "      <td>-0.746138</td>\n",
       "      <td>-0.277203</td>\n",
       "      <td>-0.457046</td>\n",
       "      <td>0.208816</td>\n",
       "      <td>-0.157532</td>\n",
       "      <td>-0.377437</td>\n",
       "    </tr>\n",
       "    <tr>\n",
       "      <th>50%</th>\n",
       "      <td>0.104273</td>\n",
       "      <td>0.062081</td>\n",
       "      <td>-0.052607</td>\n",
       "      <td>0.139743</td>\n",
       "      <td>-0.098784</td>\n",
       "      <td>-0.019322</td>\n",
       "      <td>-0.009652</td>\n",
       "      <td>-0.033620</td>\n",
       "      <td>0.081824</td>\n",
       "      <td>0.371400</td>\n",
       "      <td>...</td>\n",
       "      <td>-0.166706</td>\n",
       "      <td>-0.110003</td>\n",
       "      <td>0.003908</td>\n",
       "      <td>-0.023271</td>\n",
       "      <td>-0.544489</td>\n",
       "      <td>-0.063006</td>\n",
       "      <td>-0.222692</td>\n",
       "      <td>0.444532</td>\n",
       "      <td>0.060395</td>\n",
       "      <td>-0.167155</td>\n",
       "    </tr>\n",
       "    <tr>\n",
       "      <th>75%</th>\n",
       "      <td>0.302763</td>\n",
       "      <td>0.260005</td>\n",
       "      <td>0.152852</td>\n",
       "      <td>0.335021</td>\n",
       "      <td>0.097418</td>\n",
       "      <td>0.178302</td>\n",
       "      <td>0.206068</td>\n",
       "      <td>0.145081</td>\n",
       "      <td>0.288237</td>\n",
       "      <td>0.578779</td>\n",
       "      <td>...</td>\n",
       "      <td>0.035540</td>\n",
       "      <td>0.090700</td>\n",
       "      <td>0.223130</td>\n",
       "      <td>0.187179</td>\n",
       "      <td>-0.351914</td>\n",
       "      <td>0.141083</td>\n",
       "      <td>-0.003085</td>\n",
       "      <td>0.664299</td>\n",
       "      <td>0.269449</td>\n",
       "      <td>0.043054</td>\n",
       "    </tr>\n",
       "    <tr>\n",
       "      <th>max</th>\n",
       "      <td>1.338826</td>\n",
       "      <td>1.284234</td>\n",
       "      <td>1.106441</td>\n",
       "      <td>1.294629</td>\n",
       "      <td>0.938716</td>\n",
       "      <td>1.290035</td>\n",
       "      <td>1.211554</td>\n",
       "      <td>1.274845</td>\n",
       "      <td>1.280112</td>\n",
       "      <td>1.779370</td>\n",
       "      <td>...</td>\n",
       "      <td>1.040698</td>\n",
       "      <td>0.979154</td>\n",
       "      <td>1.297489</td>\n",
       "      <td>1.435355</td>\n",
       "      <td>0.519844</td>\n",
       "      <td>1.160901</td>\n",
       "      <td>1.042784</td>\n",
       "      <td>1.626157</td>\n",
       "      <td>1.229703</td>\n",
       "      <td>1.193605</td>\n",
       "    </tr>\n",
       "  </tbody>\n",
       "</table>\n",
       "<p>8 rows × 128 columns</p>\n",
       "</div>"
      ],
      "text/plain": [
       "                0             1             2             3             4    \\\n",
       "count  20701.000000  20701.000000  20701.000000  20701.000000  20701.000000   \n",
       "mean       0.101796      0.054271     -0.053068      0.138621     -0.101186   \n",
       "std        0.297767      0.302969      0.304978      0.293488      0.290411   \n",
       "min       -1.185942     -1.174527     -1.545076     -1.186105     -1.492544   \n",
       "25%       -0.095416     -0.140536     -0.261342     -0.057162     -0.289715   \n",
       "50%        0.104273      0.062081     -0.052607      0.139743     -0.098784   \n",
       "75%        0.302763      0.260005      0.152852      0.335021      0.097418   \n",
       "max        1.338826      1.284234      1.106441      1.294629      0.938716   \n",
       "\n",
       "                5             6             7             8             9    \\\n",
       "count  20701.000000  20701.000000  20701.000000  20701.000000  20701.000000   \n",
       "mean      -0.019350     -0.008168     -0.034094      0.087339      0.377645   \n",
       "std        0.301152      0.307910      0.273126      0.302194      0.302911   \n",
       "min       -1.349734     -1.278848     -1.148145     -1.409779     -0.726128   \n",
       "25%       -0.221183     -0.214615     -0.216668     -0.116821      0.167464   \n",
       "50%       -0.019322     -0.009652     -0.033620      0.081824      0.371400   \n",
       "75%        0.178302      0.206068      0.145081      0.288237      0.578779   \n",
       "max        1.290035      1.211554      1.274845      1.280112      1.779370   \n",
       "\n",
       "           ...                118           119           120           121  \\\n",
       "count      ...       20701.000000  20701.000000  20701.000000  20701.000000   \n",
       "mean       ...          -0.163936     -0.113719     -0.002394     -0.009099   \n",
       "std        ...           0.297193      0.307215      0.330141      0.313027   \n",
       "min        ...          -1.284607     -1.301607     -1.452483     -1.132849   \n",
       "25%        ...          -0.365777     -0.317797     -0.219234     -0.225516   \n",
       "50%        ...          -0.166706     -0.110003      0.003908     -0.023271   \n",
       "75%        ...           0.035540      0.090700      0.223130      0.187179   \n",
       "max        ...           1.040698      0.979154      1.297489      1.435355   \n",
       "\n",
       "                122           123           124           125           126  \\\n",
       "count  20701.000000  20701.000000  20701.000000  20701.000000  20701.000000   \n",
       "mean      -0.547900     -0.069505     -0.234863      0.430402      0.052861   \n",
       "std        0.288970      0.306663      0.327617      0.326694      0.313234   \n",
       "min       -1.952865     -1.370527     -1.470508     -0.902805     -1.145220   \n",
       "25%       -0.746138     -0.277203     -0.457046      0.208816     -0.157532   \n",
       "50%       -0.544489     -0.063006     -0.222692      0.444532      0.060395   \n",
       "75%       -0.351914      0.141083     -0.003085      0.664299      0.269449   \n",
       "max        0.519844      1.160901      1.042784      1.626157      1.229703   \n",
       "\n",
       "                127  \n",
       "count  20701.000000  \n",
       "mean      -0.170808  \n",
       "std        0.308749  \n",
       "min       -1.288999  \n",
       "25%       -0.377437  \n",
       "50%       -0.167155  \n",
       "75%        0.043054  \n",
       "max        1.193605  \n",
       "\n",
       "[8 rows x 128 columns]"
      ]
     },
     "execution_count": 5,
     "metadata": {},
     "output_type": "execute_result"
    }
   ],
   "source": [
    "df.describe()"
   ]
  },
  {
   "cell_type": "code",
   "execution_count": 6,
   "metadata": {},
   "outputs": [
    {
     "data": {
      "text/plain": [
       "Int64Index([], dtype='int64')"
      ]
     },
     "execution_count": 6,
     "metadata": {},
     "output_type": "execute_result"
    }
   ],
   "source": [
    "df.select_dtypes(include=['category', object]).columns"
   ]
  },
  {
   "cell_type": "code",
   "execution_count": 7,
   "metadata": {},
   "outputs": [],
   "source": [
    "df_aarr = df.values"
   ]
  },
  {
   "cell_type": "code",
   "execution_count": 8,
   "metadata": {},
   "outputs": [
    {
     "data": {
      "text/plain": [
       "(20701, 128)"
      ]
     },
     "execution_count": 8,
     "metadata": {},
     "output_type": "execute_result"
    }
   ],
   "source": [
    "df_aarr.shape\n"
   ]
  },
  {
   "cell_type": "code",
   "execution_count": 17,
   "metadata": {},
   "outputs": [
    {
     "data": {
      "text/plain": [
       "dtype('float64')"
      ]
     },
     "execution_count": 17,
     "metadata": {},
     "output_type": "execute_result"
    }
   ],
   "source": [
    "df_aarr[2].dtype"
   ]
  },
  {
   "cell_type": "code",
   "execution_count": 18,
   "metadata": {},
   "outputs": [],
   "source": [
    "with open(\"pubmed_full.pickle\",\"wb\") as f:\n",
    "    pickle.dump(df_aarr,f,pickle.HIGHEST_PROTOCOL)"
   ]
  },
  {
   "cell_type": "code",
   "execution_count": 19,
   "metadata": {},
   "outputs": [],
   "source": [
    "df = pd.read_csv(\"pubmed_label.csv\", sep =\" \", header=None)"
   ]
  },
  {
   "cell_type": "code",
   "execution_count": 20,
   "metadata": {},
   "outputs": [
    {
     "data": {
      "text/plain": [
       "(20701, 1)"
      ]
     },
     "execution_count": 20,
     "metadata": {},
     "output_type": "execute_result"
    }
   ],
   "source": [
    "df.shape"
   ]
  },
  {
   "cell_type": "code",
   "execution_count": 21,
   "metadata": {},
   "outputs": [],
   "source": [
    "df = df.values.reshape((20701,))"
   ]
  },
  {
   "cell_type": "code",
   "execution_count": 22,
   "metadata": {},
   "outputs": [],
   "source": [
    "with open(\"pubmed_full_label.pickle\",\"wb\") as f:\n",
    "    pickle.dump(df,f,pickle.HIGHEST_PROTOCOL)"
   ]
  },
  {
   "cell_type": "code",
   "execution_count": null,
   "metadata": {},
   "outputs": [],
   "source": []
  }
 ],
 "metadata": {
  "kernelspec": {
   "display_name": "Python 3",
   "language": "python",
   "name": "python3"
  },
  "language_info": {
   "codemirror_mode": {
    "name": "ipython",
    "version": 3
   },
   "file_extension": ".py",
   "mimetype": "text/x-python",
   "name": "python",
   "nbconvert_exporter": "python",
   "pygments_lexer": "ipython3",
   "version": "3.6.5"
  }
 },
 "nbformat": 4,
 "nbformat_minor": 2
}
