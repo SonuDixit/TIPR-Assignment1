{
 "cells": [
  {
   "cell_type": "markdown",
   "metadata": {},
   "source": [
    "## dolphins-- NN "
   ]
  },
  {
   "cell_type": "code",
   "execution_count": 1,
   "metadata": {},
   "outputs": [],
   "source": [
    "import os\n",
    "import numpy as np\n",
    "import pandas as pd\n",
    "import argparse\n",
    "from helper_fns import data_read_convert_to_np_array, split_train_test, preprocess_text_data, read_label_from_text_file\n",
    "from Nearest_Neighbour import NearestNeighbour\n",
    "from projections import projections\n",
    "from BayesClf import get_ML_params, get_prob, BayesClf\n",
    "from sklearn.metrics import f1_score, accuracy_score\n",
    "from sklearn.neighbors import KNeighborsClassifier\n",
    "from projections import projections\n",
    "from matplotlib import pyplot as plt\n",
    "from sklearn.naive_bayes import GaussianNB\n",
    "from sklearn.naive_bayes import MultinomialNB"
   ]
  },
  {
   "cell_type": "code",
   "execution_count": 2,
   "metadata": {},
   "outputs": [],
   "source": [
    "import pickle"
   ]
  },
  {
   "cell_type": "code",
   "execution_count": 3,
   "metadata": {},
   "outputs": [],
   "source": [
    "data_path = \"H:\\\\sonu\\\\tipr\\\\Assignment1\\\\data\\\\\"\n",
    "dolph_data = data_read_convert_to_np_array(data_path+\"dolphins\\\\dolphins.csv\")\n",
    "dolph_label = data_read_convert_to_np_array(data_path+\"dolphins\\\\dolphins_label.csv\")\n",
    "nn = NearestNeighbour()\n",
    "nn.fit(dolph_data, dolph_label)\n",
    "with open(\"dolph_clf.pickle\",\"wb\") as f:\n",
    "    pickle.dump(nn,f,pickle.HIGHEST_PROTOCOL)"
   ]
  },
  {
   "cell_type": "markdown",
   "metadata": {},
   "source": [
    "## pubmed - Bayes"
   ]
  },
  {
   "cell_type": "code",
   "execution_count": 5,
   "metadata": {},
   "outputs": [],
   "source": [
    "pubmed_data = data_read_convert_to_np_array(data_path+\"pubmed\\\\pubmed.csv\")\n",
    "pubmed_label = data_read_convert_to_np_array(data_path+\"pubmed\\\\pubmed_label.csv\")\n",
    "b_clf = BayesClf()\n",
    "b_clf.fit(pubmed_data, pubmed_label,bow=False)\n",
    "with open(\"pubmed_clf.pickle\",\"wb\") as f:\n",
    "    pickle.dump(b_clf,f,pickle.HIGHEST_PROTOCOL)"
   ]
  },
  {
   "cell_type": "markdown",
   "metadata": {},
   "source": [
    "## Twitter - Bayes"
   ]
  },
  {
   "cell_type": "code",
   "execution_count": 7,
   "metadata": {},
   "outputs": [],
   "source": [
    "twit_data = preprocess_text_data(data_path+\"twitter\\\\twitter.txt\")\n",
    "twit_label = read_label_from_text_file(data_path+\"twitter\\\\twitter_label.txt\")\n",
    "b_clf = BayesClf()\n",
    "prior,_ = b_clf.fit(twit_data, twit_label,bow=True)\n",
    "with open(\"twitter_clf.pickle\",\"wb\") as f:\n",
    "    pickle.dump(b_clf,f,pickle.HIGHEST_PROTOCOL)"
   ]
  },
  {
   "cell_type": "code",
   "execution_count": null,
   "metadata": {},
   "outputs": [],
   "source": []
  }
 ],
 "metadata": {
  "kernelspec": {
   "display_name": "Python 3",
   "language": "python",
   "name": "python3"
  },
  "language_info": {
   "codemirror_mode": {
    "name": "ipython",
    "version": 3
   },
   "file_extension": ".py",
   "mimetype": "text/x-python",
   "name": "python",
   "nbconvert_exporter": "python",
   "pygments_lexer": "ipython3",
   "version": "3.6.5"
  }
 },
 "nbformat": 4,
 "nbformat_minor": 2
}
